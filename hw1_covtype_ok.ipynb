{
  "nbformat": 4,
  "nbformat_minor": 0,
  "metadata": {
    "colab": {
      "provenance": [],
      "gpuType": "T4",
      "mount_file_id": "1fz9C3tCZY9FAkRJ_CYoDFPtB-gVXFUGg",
      "authorship_tag": "ABX9TyPaJVHM6SVWwaNeDwIiBIN4",
      "include_colab_link": true
    },
    "kernelspec": {
      "name": "python3",
      "display_name": "Python 3"
    },
    "language_info": {
      "name": "python"
    },
    "accelerator": "GPU"
  },
  "cells": [
    {
      "cell_type": "markdown",
      "metadata": {
        "id": "view-in-github",
        "colab_type": "text"
      },
      "source": [
        "<a href=\"https://colab.research.google.com/github/KianLian-Soc/IUST_Study/blob/main/hw1_covtype_ok.ipynb\" target=\"_parent\"><img src=\"https://colab.research.google.com/assets/colab-badge.svg\" alt=\"Open In Colab\"/></a>"
      ]
    },
    {
      "cell_type": "code",
      "execution_count": null,
      "metadata": {
        "colab": {
          "base_uri": "https://localhost:8080/"
        },
        "id": "wt5lVdyac_Zu",
        "outputId": "e1e52431-e1dc-47f4-e5ac-1b7b868a7a05"
      },
      "outputs": [
        {
          "output_type": "stream",
          "name": "stdout",
          "text": [
            "Python: 3.12.12 | PyTorch: 2.8.0+cu126 | OS: Linux-6.6.105+-x86_64-with-glibc2.35\n",
            "CUDA available: True\n",
            "GPU: Tesla T4\n"
          ]
        }
      ],
      "source": [
        "#@title GPU Checking\n",
        "import torch, platform, sys, os, numpy as np\n",
        "print(\"Python:\", sys.version.split()[0], \"| PyTorch:\", torch.__version__, \"| OS:\", platform.platform())\n",
        "print(\"CUDA available:\", torch.cuda.is_available())\n",
        "if torch.cuda.is_available():\n",
        "    print(\"GPU:\", torch.cuda.get_device_name(0))\n"
      ]
    },
    {
      "cell_type": "code",
      "source": [
        "#@ Imorts& Gpu Couda handeling error\n",
        "import os, time, pickle\n",
        "import numpy as np\n",
        "import torch\n",
        "import torch.nn as nn\n",
        "import matplotlib.pyplot as plt\n",
        "import pandas as pd\n",
        "\n",
        "from torch.utils.data import TensorDataset, DataLoader\n",
        "from sklearn.datasets import fetch_covtype\n",
        "from sklearn.model_selection import train_test_split\n",
        "from sklearn.preprocessing import MinMaxScaler\n",
        "from sklearn.metrics import accuracy_score, classification_report, confusion_matrix\n",
        "\n",
        "#  Reapidability\n",
        "torch.manual_seed(50)\n",
        "np.random.seed(50)\n",
        "\n",
        "device = torch.device(\"cuda\" if torch.cuda.is_available() else \"cpu\")\n",
        "pin = True if device.type == 'cuda' else False\n",
        "print(\"Device:\", device,\"\\nCuda status is\",pin)"
      ],
      "metadata": {
        "colab": {
          "base_uri": "https://localhost:8080/"
        },
        "id": "4-_k1zbLd3Cl",
        "outputId": "83626b45-88dc-4396-e3a6-38a0f13af674"
      },
      "execution_count": null,
      "outputs": [
        {
          "output_type": "stream",
          "name": "stdout",
          "text": [
            "Device: cuda \n",
            "Cuda status is True\n"
          ]
        }
      ]
    },
    {
      "cell_type": "markdown",
      "source": [
        "\n",
        "  #@title   2048 | 4096| 8192"
      ],
      "metadata": {
        "id": "dsUYpW-ue0G3"
      }
    },
    {
      "cell_type": "code",
      "source": [
        "#@title Hyperparamer init.\n",
        "EPOCHS = 20               #@param {type:\"integer\"}\n",
        "BATCH_SIZE = 4096         #@param {type:\"integer\"}\n",
        "BASE_LR = 0.001           #@param {type:\"number\"}\n",
        "MAX_LR  = 0.005           #@param {type:\"number\"}\n",
        "WEIGHT_DECAY = 1e-4       #@param {type:\"number\"}\n",
        "LABEL_SMOOTH = 0.05       #@param {type:\"number\"}\n",
        "PATIENCE = 5              #@param {type:\"integer\"}\n",
        "USE_AMP = False            #@param {type:\"boolean\"}\n",
        "NUM_WORKERS = 2           #@param {type:\"integer\"}\n",
        "\n",
        "print(f\"EPOCHS={EPOCHS}, BATCH_SIZE={BATCH_SIZE}, MAX_LR={MAX_LR}, AMP={USE_AMP}\")\n"
      ],
      "metadata": {
        "colab": {
          "base_uri": "https://localhost:8080/"
        },
        "id": "Zguk0-rfe0SL",
        "outputId": "94e73091-8e18-476d-f2ea-8c1d0371f3f4"
      },
      "execution_count": null,
      "outputs": [
        {
          "output_type": "stream",
          "name": "stdout",
          "text": [
            "EPOCHS=20, BATCH_SIZE=4096, MAX_LR=0.005, AMP=False\n"
          ]
        }
      ]
    },
    {
      "cell_type": "code",
      "source": [],
      "metadata": {
        "id": "PeQrHDyTlvr8"
      },
      "execution_count": null,
      "outputs": []
    },
    {
      "cell_type": "code",
      "source": [
        "#@title Laoding the Covertype Datatset\n",
        "cov = fetch_covtype()\n",
        "X = cov.data.astype(np.float32)\n",
        "y = cov.target.astype(np.int64) - 1  # 1..7 -> 0..6 Pytorch Sync.\n",
        "\n",
        "n_features = X.shape[1]\n",
        "n_classes = len(np.unique(y))\n",
        "print(\"X shape:\", X.shape, \"| classes:\", n_classes)"
      ],
      "metadata": {
        "colab": {
          "base_uri": "https://localhost:8080/"
        },
        "id": "rtBD5gUof66m",
        "outputId": "bdbf3b3b-674b-4f58-8cfe-be66b4008d48"
      },
      "execution_count": null,
      "outputs": [
        {
          "output_type": "stream",
          "name": "stdout",
          "text": [
            "X shape: (581012, 54) | classes: 7\n"
          ]
        }
      ]
    },
    {
      "cell_type": "code",
      "source": [
        "#@title  Train/Test Scaling to (0,1)\n",
        "X_train, X_test, y_train, y_test = train_test_split(\n",
        "    X, y, test_size=0.2, random_state=42, stratify=y\n",
        ")\n",
        "\n",
        "scaler = MinMaxScaler(feature_range=(0.0, 1.0))\n",
        "X_train = scaler.fit_transform(X_train).astype(np.float32)\n",
        "X_test  = scaler.transform(X_test).astype(np.float32)\n",
        "\n",
        "print(\"Train:\", X_train.shape, \" Test:\", X_test.shape)\n"
      ],
      "metadata": {
        "colab": {
          "base_uri": "https://localhost:8080/"
        },
        "id": "qcp7PQcUgYaE",
        "outputId": "ca03f306-8e59-448e-a89a-92ee9644624e"
      },
      "execution_count": null,
      "outputs": [
        {
          "output_type": "stream",
          "name": "stdout",
          "text": [
            "Train: (464809, 54)  Test: (116203, 54)\n"
          ]
        }
      ]
    },
    {
      "cell_type": "code",
      "source": [
        "#@title Building the DataLoaders\n",
        "train_ds = TensorDataset(torch.from_numpy(X_train), torch.from_numpy(y_train))\n",
        "test_ds  = TensorDataset(torch.from_numpy(X_test),  torch.from_numpy(y_test))\n",
        "\n",
        "train_loader = DataLoader(train_ds, batch_size=BATCH_SIZE, shuffle=True,\n",
        "                          num_workers=0, pin_memory=pin, persistent_workers=False)\n",
        "test_loader  = DataLoader(test_ds,  batch_size=BATCH_SIZE, shuffle=False,\n",
        "                          num_workers=0, pin_memory=pin, persistent_workers=False)\n",
        "len(train_loader), len(test_loader)"
      ],
      "metadata": {
        "colab": {
          "base_uri": "https://localhost:8080/"
        },
        "id": "3lSahq8AhkzU",
        "outputId": "0338c9d1-1f8b-4008-a0d6-326d6431f012"
      },
      "execution_count": null,
      "outputs": [
        {
          "output_type": "execute_result",
          "data": {
            "text/plain": [
              "(114, 29)"
            ]
          },
          "metadata": {},
          "execution_count": 118
        }
      ]
    },
    {
      "cell_type": "code",
      "source": [
        "#@title MLP Definition\n",
        "class MLP(nn.Module):\n",
        "    def __init__(self, in_dim, num_classes):\n",
        "        super().__init__()\n",
        "        self.net = nn.Sequential(\n",
        "            nn.Linear(in_dim, 488),\n",
        "            nn.BatchNorm1d(488),\n",
        "            nn.ReLU(inplace=True),\n",
        "            nn.Dropout(0.1),\n",
        "\n",
        "            nn.Linear(488, 488),\n",
        "            nn.BatchNorm1d(488),\n",
        "            nn.ReLU(inplace=True),\n",
        "            nn.Dropout(0.2),\n",
        "\n",
        "            nn.Linear(488, 128),        #Compresion\n",
        "            nn.BatchNorm1d(128),\n",
        "            nn.ReLU(inplace=True),\n",
        "            nn.Dropout(0.1),\n",
        "\n",
        "            nn.Linear(128, num_classes),\n",
        "        )\n",
        "    def forward(self, x):\n",
        "        return self.net(x)\n",
        "\n",
        "model = MLP(n_features, n_classes).to(device)\n",
        "print(model)\n"
      ],
      "metadata": {
        "colab": {
          "base_uri": "https://localhost:8080/"
        },
        "id": "irSg7uzZiKIK",
        "outputId": "c18bece5-3c67-41c9-d173-492c4a617498"
      },
      "execution_count": null,
      "outputs": [
        {
          "output_type": "stream",
          "name": "stdout",
          "text": [
            "MLP(\n",
            "  (net): Sequential(\n",
            "    (0): Linear(in_features=54, out_features=488, bias=True)\n",
            "    (1): BatchNorm1d(488, eps=1e-05, momentum=0.1, affine=True, track_running_stats=True)\n",
            "    (2): ReLU(inplace=True)\n",
            "    (3): Dropout(p=0.1, inplace=False)\n",
            "    (4): Linear(in_features=488, out_features=488, bias=True)\n",
            "    (5): BatchNorm1d(488, eps=1e-05, momentum=0.1, affine=True, track_running_stats=True)\n",
            "    (6): ReLU(inplace=True)\n",
            "    (7): Dropout(p=0.2, inplace=False)\n",
            "    (8): Linear(in_features=488, out_features=128, bias=True)\n",
            "    (9): BatchNorm1d(128, eps=1e-05, momentum=0.1, affine=True, track_running_stats=True)\n",
            "    (10): ReLU(inplace=True)\n",
            "    (11): Dropout(p=0.1, inplace=False)\n",
            "    (12): Linear(in_features=128, out_features=7, bias=True)\n",
            "  )\n",
            ")\n"
          ]
        }
      ]
    },
    {
      "cell_type": "code",
      "source": [
        "#@title eval with Loss And Acc + Param Counting\n",
        "def evaluate_with_loss(net, loader, criterion):\n",
        "    net.eval()\n",
        "    preds, gts = [], []\n",
        "    total_loss = 0.0\n",
        "    with torch.no_grad():\n",
        "        for xb, yb in loader:\n",
        "            xb, yb = xb.to(device), yb.to(device)\n",
        "            logits = net(xb)\n",
        "            loss = criterion(logits, yb)\n",
        "            total_loss += loss.item() * xb.size(0)\n",
        "            pred = logits.argmax(1)\n",
        "            preds.append(pred.cpu().numpy())\n",
        "            gts.append(yb.cpu().numpy())\n",
        "    y_true = np.concatenate(gts)\n",
        "    y_pred = np.concatenate(preds)\n",
        "    acc = accuracy_score(y_true, y_pred)\n",
        "    avg_loss = total_loss / len(loader.dataset)\n",
        "    return acc, avg_loss\n",
        "\n",
        "def count_params(m):\n",
        "    return sum(p.numel() for p in m.parameters() if p.requires_grad)\n",
        "\n",
        "print(\"Trainable params:\", f\"{count_params(model):,}\")\n"
      ],
      "metadata": {
        "colab": {
          "base_uri": "https://localhost:8080/"
        },
        "id": "O7HTGp60iR3-",
        "outputId": "4e8ae881-a5f3-4c91-d6b5-d5fa4f276522"
      },
      "execution_count": null,
      "outputs": [
        {
          "output_type": "stream",
          "name": "stdout",
          "text": [
            "Trainable params: 331,175\n"
          ]
        }
      ]
    },
    {
      "cell_type": "code",
      "source": [
        "#@title Criterion/Optimizer/Scheduler with Gemini help I added to my code\n",
        "criterion = nn.CrossEntropyLoss(label_smoothing=LABEL_SMOOTH)\n",
        "optimizer = torch.optim.AdamW(model.parameters(), lr=BASE_LR, weight_decay=WEIGHT_DECAY)\n",
        "scheduler = torch.optim.lr_scheduler.OneCycleLR(\n",
        "    optimizer, max_lr=MAX_LR, epochs=EPOCHS, steps_per_epoch=len(train_loader)\n",
        ")\n",
        "\n",
        "#scaler = torch.cuda.amp.GradScaler(enabled=(USE_AMP and device.type=='cuda'))\n",
        "scaler = torch.amp.GradScaler('cuda')\n",
        "\n",
        "# لاگ‌ها\n",
        "train_loss_hist, train_acc_hist = [], []\n",
        "test_loss_hist,  test_acc_hist  = [], []\n",
        "epoch_time_sec = []\n",
        "\n",
        "best_acc, best_epoch, best_state = 0.0, 0, None"
      ],
      "metadata": {
        "id": "WC4i6gpOik6q"
      },
      "execution_count": null,
      "outputs": []
    },
    {
      "cell_type": "code",
      "source": [
        "#@title Training + Eval per each epoch + Early Stopping\n",
        "for ep in range(1, EPOCHS + 1):\n",
        "    t0 = time.time()\n",
        "    model.train()\n",
        "    running_loss = 0.0\n",
        "    #print(scaler.is_enabled)\n",
        "    #scaler = torch.cuda.amp.GradScaler()\n",
        "\n",
        "    for xb, yb in train_loader:\n",
        "        xb, yb = xb.to(device), yb.to(device)\n",
        "        optimizer.zero_grad()\n",
        "        if scaler.is_enabled():\n",
        "            with torch.amp.autocast('cuda'):\n",
        "                logits = model(xb)\n",
        "                loss = criterion(logits, yb)\n",
        "            scaler.scale(loss).backward()\n",
        "            torch.nn.utils.clip_grad_norm_(model.parameters(), 1.0)\n",
        "            scaler.step(optimizer)\n",
        "            scaler.update()\n",
        "        else:\n",
        "            logits = model(xb)\n",
        "            loss = criterion(logits, yb)\n",
        "            loss.backward()\n",
        "            torch.nn.utils.clip_grad_norm_(model.parameters(), 1.0)\n",
        "            optimizer.step()\n",
        "\n",
        "        scheduler.step()\n",
        "        running_loss += loss.item() * xb.size(0)\n",
        "\n",
        "    # Avg Loss on train\n",
        "    train_loss = running_loss / len(train_loader.dataset)\n",
        "\n",
        "    # Eval train/test\n",
        "    train_acc, _      = evaluate_with_loss(model, train_loader, criterion)\n",
        "    test_acc, test_ls = evaluate_with_loss(model, test_loader,  criterion)\n",
        "\n",
        "    # Logging the data\n",
        "    train_loss_hist.append(train_loss)\n",
        "    train_acc_hist.append(train_acc)\n",
        "    test_loss_hist.append(test_ls)\n",
        "    test_acc_hist.append(test_acc)\n",
        "\n",
        "    # Time of each epoch\n",
        "    ep_secs = time.time() - t0\n",
        "    epoch_time_sec.append(ep_secs)\n",
        "\n",
        "    print(f\"Epoch {ep:02d}/{EPOCHS} | \"\n",
        "          f\"TrainLoss: {train_loss:.4f} | TrainAcc: {train_acc*100:.2f}% | \"\n",
        "          f\"TestLoss: {test_ls:.4f} | TestAcc: {test_acc*100:.2f}% | \"\n",
        "          f\"Time: {ep_secs:.1f}s\")\n",
        "\n",
        "    # Early stopping on TestAcc\n",
        "    if test_acc > best_acc:\n",
        "        best_acc = test_acc\n",
        "        best_epoch = ep\n",
        "        best_state = {k: v.cpu().clone() for k, v in model.state_dict().items()}\n",
        "        patience_cnt = 0\n",
        "    else:\n",
        "        patience_cnt += 1\n",
        "        if patience_cnt >= PATIENCE:\n",
        "            print(\"Early stopping.\")\n",
        "            break\n",
        "\n",
        "#Loading the best State\n",
        "if best_state is not None:\n",
        "    model.load_state_dict(best_state)\n",
        "\n",
        "print(f\"\\nBest Test Accuracy: {best_acc*100:.2f}% @ epoch {best_epoch}\")"
      ],
      "metadata": {
        "colab": {
          "base_uri": "https://localhost:8080/"
        },
        "id": "9Xo0BsaajKI_",
        "outputId": "e61619fe-476f-4bde-c51a-91372a654701"
      },
      "execution_count": null,
      "outputs": [
        {
          "output_type": "stream",
          "name": "stdout",
          "text": [
            "Epoch 01/20 | TrainLoss: 1.0979 | TrainAcc: 74.00% | TestLoss: 0.7934 | TestAcc: 73.92% | Time: 11.8s\n",
            "Epoch 02/20 | TrainLoss: 0.7639 | TrainAcc: 78.19% | TestLoss: 0.7029 | TestAcc: 78.24% | Time: 11.1s\n",
            "Epoch 03/20 | TrainLoss: 0.6979 | TrainAcc: 81.26% | TestLoss: 0.6451 | TestAcc: 81.16% | Time: 11.2s\n",
            "Epoch 04/20 | TrainLoss: 0.6502 | TrainAcc: 83.36% | TestLoss: 0.6069 | TestAcc: 83.19% | Time: 11.2s\n",
            "Epoch 05/20 | TrainLoss: 0.6153 | TrainAcc: 85.18% | TestLoss: 0.5799 | TestAcc: 85.02% | Time: 11.1s\n",
            "Epoch 06/20 | TrainLoss: 0.5873 | TrainAcc: 86.51% | TestLoss: 0.5511 | TestAcc: 86.16% | Time: 11.1s\n",
            "Epoch 07/20 | TrainLoss: 0.5621 | TrainAcc: 87.65% | TestLoss: 0.5320 | TestAcc: 87.30% | Time: 10.3s\n",
            "Epoch 08/20 | TrainLoss: 0.5436 | TrainAcc: 88.97% | TestLoss: 0.5038 | TestAcc: 88.62% | Time: 10.9s\n",
            "Epoch 09/20 | TrainLoss: 0.5270 | TrainAcc: 89.97% | TestLoss: 0.4862 | TestAcc: 89.53% | Time: 11.1s\n",
            "Epoch 10/20 | TrainLoss: 0.5133 | TrainAcc: 90.35% | TestLoss: 0.4776 | TestAcc: 89.84% | Time: 11.2s\n",
            "Epoch 11/20 | TrainLoss: 0.5005 | TrainAcc: 91.19% | TestLoss: 0.4615 | TestAcc: 90.70% | Time: 11.1s\n",
            "Epoch 12/20 | TrainLoss: 0.4888 | TrainAcc: 91.76% | TestLoss: 0.4510 | TestAcc: 91.15% | Time: 11.1s\n",
            "Epoch 13/20 | TrainLoss: 0.4791 | TrainAcc: 92.38% | TestLoss: 0.4399 | TestAcc: 91.75% | Time: 10.2s\n",
            "Epoch 14/20 | TrainLoss: 0.4703 | TrainAcc: 92.77% | TestLoss: 0.4310 | TestAcc: 92.16% | Time: 10.9s\n",
            "Epoch 15/20 | TrainLoss: 0.4619 | TrainAcc: 93.23% | TestLoss: 0.4232 | TestAcc: 92.56% | Time: 11.4s\n",
            "Epoch 16/20 | TrainLoss: 0.4552 | TrainAcc: 93.53% | TestLoss: 0.4166 | TestAcc: 92.83% | Time: 10.9s\n",
            "Epoch 17/20 | TrainLoss: 0.4497 | TrainAcc: 93.76% | TestLoss: 0.4122 | TestAcc: 93.07% | Time: 11.1s\n",
            "Epoch 18/20 | TrainLoss: 0.4448 | TrainAcc: 93.95% | TestLoss: 0.4093 | TestAcc: 93.23% | Time: 11.2s\n",
            "Epoch 19/20 | TrainLoss: 0.4418 | TrainAcc: 94.02% | TestLoss: 0.4081 | TestAcc: 93.27% | Time: 10.2s\n",
            "Epoch 20/20 | TrainLoss: 0.4410 | TrainAcc: 94.03% | TestLoss: 0.4079 | TestAcc: 93.27% | Time: 11.0s\n",
            "\n",
            "Best Test Accuracy: 93.27% @ epoch 20\n"
          ]
        }
      ]
    },
    {
      "cell_type": "code",
      "source": [
        "#@title Plot+ Save in CSV file(optional)\n",
        "os.makedirs(\"Results\", exist_ok=True)\n",
        "\n",
        "epochs_range = range(1, len(train_acc_hist)+1)\n",
        "\n",
        "plt.figure(figsize=(7,5))\n",
        "plt.plot(epochs_range, train_acc_hist, label='Train Acc')\n",
        "plt.plot(epochs_range, test_acc_hist,  label='Test Acc')\n",
        "plt.xlabel('Epoch'); plt.ylabel('Accuracy'); plt.title('Accuracy vs Epoch')\n",
        "plt.grid(True); plt.legend(); plt.tight_layout()\n",
        "plt.savefig(\"Results/acc_curve.png\", dpi=150)\n",
        "plt.show()\n",
        "\n",
        "plt.figure(figsize=(7,5))\n",
        "plt.plot(epochs_range, train_loss_hist, label='Train Loss')\n",
        "plt.plot(epochs_range, test_loss_hist,  label='Test Loss')\n",
        "plt.xlabel('Epoch'); plt.ylabel('Loss'); plt.title('Loss vs Epoch')\n",
        "plt.grid(True); plt.legend(); plt.tight_layout()\n",
        "plt.savefig(\"Results/loss_curve.png\", dpi=150)\n",
        "plt.show()\n",
        "\n",
        "pd.DataFrame({\n",
        "    \"epoch\": list(epochs_range),\n",
        "    \"train_loss\": train_loss_hist,\n",
        "    \"test_loss\":  test_loss_hist,\n",
        "    \"train_acc\":  train_acc_hist,\n",
        "    \"test_acc\":   test_acc_hist,\n",
        "    \"time_sec\":   epoch_time_sec\n",
        "}).to_csv(\"Results/training_log.csv\", index=False)\n",
        "\n",
        "print(\"Saved: Results/acc_curve.png, Results/loss_curve.png, Results/training_log.csv\")\n"
      ],
      "metadata": {
        "colab": {
          "base_uri": "https://localhost:8080/",
          "height": 1000
        },
        "id": "qg0XumNpjOcg",
        "outputId": "7a531cc9-549e-4943-81ee-b34ee8137328"
      },
      "execution_count": null,
      "outputs": [
        {
          "output_type": "display_data",
          "data": {
            "text/plain": [
              "<Figure size 700x500 with 1 Axes>"
            ],
            "image/png": "[encoded data removed]"
          },
          "metadata": {}
        },
        {
          "output_type": "display_data",
          "data": {
            "text/plain": [
              "<Figure size 700x500 with 1 Axes>"
            ],
            "image/png": "[encoded data removed]"
          },
          "metadata": {}
        },
        {
          "output_type": "stream",
          "name": "stdout",
          "text": [
            "Saved: Results/acc_curve.png, Results/loss_curve.png, Results/training_log.csv\n"
          ]
        }
      ]
    },
    {
      "cell_type": "code",
      "source": [
        "#@title Testing the model on random data 10 records\n",
        "torch.save(model.state_dict(), \"Results/covtype_mlp.pt\")\n",
        "with open(\"Results/covtype_scaler.pkl\", \"wb\") as f:\n",
        "    pickle.dump(scaler, f)\n",
        "print(\"Saved model & scaler in artifacts/\")\n",
        "\n",
        "# Model Loading\n",
        "model2 = MLP(n_features, n_classes).to(device)\n",
        "model2.load_state_dict(torch.load(\"Results/covtype_mlp.pt\", map_location=device))\n",
        "model2.eval()\n",
        "\n",
        "#  inference 10 Recordes\n",
        "idx = np.random.choice(len(X_test), size=25, replace=False)\n",
        "X5 = torch.from_numpy(X_test[idx]).to(device)\n",
        "with torch.no_grad():\n",
        "    y5_pred = model2(X5).argmax(1).cpu().numpy()\n",
        "print(\"Pred:\", y5_pred, \"\\nTrue:\", y_test[idx])\n"
      ],
      "metadata": {
        "colab": {
          "base_uri": "https://localhost:8080/"
        },
        "id": "W63LREXkjWXw",
        "outputId": "a80b3c65-95eb-4ad7-cc13-0d4b4c12c4c5"
      },
      "execution_count": null,
      "outputs": [
        {
          "output_type": "stream",
          "name": "stdout",
          "text": [
            "Saved model & scaler in artifacts/\n",
            "Pred: [0 1 2 0 1 0 1 0 2 1 1 0 0 0 1 1 0 0 0 0 1 2 1 1 1] \n",
            "True: [0 1 2 0 1 0 1 1 2 1 1 0 0 0 1 1 0 0 0 0 1 5 1 1 1]\n"
          ]
        }
      ]
    },
    {
      "cell_type": "code",
      "source": [
        "#@title Save the Model and data to Google Drive\n",
        "\n",
        "from google.colab import drive\n",
        "drive.mount('/content/drive')\n",
        "\n",
        "!mkdir -p /content/drive/MyDrive/covtype_Results_Hw_01\n",
        "!cp -r Results/* /content/drive/MyDrive/covtype_Results_Hw_01/\n",
        "print(\"Copied Results to Drive: /content/drive/MyDrive/covtype_Results_Hw_01\")\n"
      ],
      "metadata": {
        "colab": {
          "base_uri": "https://localhost:8080/"
        },
        "id": "zVfkxKg2jfIT",
        "outputId": "d21d8f08-639c-42e5-acd6-cc416a38c64a"
      },
      "execution_count": null,
      "outputs": [
        {
          "output_type": "stream",
          "name": "stdout",
          "text": [
            "Drive already mounted at /content/drive; to attempt to forcibly remount, call drive.mount(\"/content/drive\", force_remount=True).\n",
            "Copied Results to Drive: /content/drive/MyDrive/covtype_Results_Hw_01\n"
          ]
        }
      ]
    }
  ]
}